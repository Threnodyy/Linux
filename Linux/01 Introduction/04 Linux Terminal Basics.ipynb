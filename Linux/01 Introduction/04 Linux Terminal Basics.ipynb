{
 "cells": [
  {
   "cell_type": "markdown",
   "id": "4f6cf3f2-e8b5-4db2-97c3-86a7ced8c243",
   "metadata": {},
   "source": [
    "<img src=\"../../images/banners/introduction.png\" width=\"600\"/>"
   ]
  },
  {
   "cell_type": "markdown",
   "id": "d232a9ab-4018-4d8c-8b84-0ade1454cfbc",
   "metadata": {},
   "source": [
    "# <img src=\"../../images/logos/linux-terminal.jpeg\" width=\"23\"/> Linux Terminal \n"
   ]
  },
  {
   "cell_type": "markdown",
   "id": "9664b43f",
   "metadata": {},
   "source": [
    "## <img src=\"../../images/logos/toc.png\" width=\"20\"/> Table of Contents \n",
    "* [Opening a terminal](#opening_a_terminal)\n",
    "* [A sense of location](#a_sense_of_location)\n",
    "* [Relative and absolute paths](#relative_and_absolute_paths)\n",
    "\n",
    "---"
   ]
  },
  {
   "cell_type": "markdown",
   "id": "dc42a736-06cf-4076-9dd0-22f4f50e3ae5",
   "metadata": {},
   "source": [
    "The Linux command line is a text interface to your computer. Often referred to as the shell, terminal, console, prompt or various other names, it can give the appearance of being complex and confusing to use. Yet the ability to copy and paste commands from a website, combined with the power and flexibility the command line offers, means that using it may be essential when trying to follow instructions online, including many on this very website!\n",
    "\n",
    "This tutorial will teach you a little of the history of the command line, then walk you through some practical exercises to become familiar with a few basic commands and concepts. We’ll assume no prior knowledge, but by the end we hope you’ll feel a bit more comfortable the next time you’re faced with some instructions that begin “Open a terminal”."
   ]
  },
  {
   "cell_type": "markdown",
   "id": "b2ae58b9-ba3b-41e7-bf94-2c3f91dd729e",
   "metadata": {},
   "source": [
    "What you’ll need\n",
    "- A computer running WSL or Ubuntu or some other version of Linux or a Mac laptop (Mac-OS is unix based also if you remember from prior sessions)."
   ]
  },
  {
   "cell_type": "markdown",
   "id": "29b31640-9aed-4351-91fc-1eb537f52979",
   "metadata": {},
   "source": [
    "Every Linux system includes a command line of one sort or another. This tutorial includes some specfic steps for Ubuntu 18.04 but most of the content should work regardless of your Linux distribution. That's also the case for WSL and Mac-OS terminal."
   ]
  },
  {
   "cell_type": "markdown",
   "id": "c37fe82f-9070-4f47-a3dc-5e760fe44206",
   "metadata": {},
   "source": [
    "> **Note:** These materials are designed for Linux OS, but most, if not all, of the content should work on WSL and Mac OS as well."
   ]
  },
  {
   "cell_type": "markdown",
   "id": "aa779548-04e5-49e8-a9c3-e70fffa76146",
   "metadata": {},
   "source": [
    "<a class=\"anchor\" id=\"opening_a_terminal\"></a>\n",
    "\n",
    "\n",
    "## Opening a terminal"
   ]
  },
  {
   "cell_type": "markdown",
   "id": "dd64afcc-4796-475f-a6dd-582c8d21436a",
   "metadata": {},
   "source": [
    "On a Ubuntu 18.04 system you can find a launcher for the terminal by clicking on the Activities item at the top left of the screen, then typing the first few letters of “terminal”, “command”, “prompt” or “shell”. Yes, the developers have set up the launcher with all the most common synonyms, so you should have no problems finding it."
   ]
  },
  {
   "cell_type": "markdown",
   "id": "df943bb5-f1c8-49e8-a80f-a1cd4805fe29",
   "metadata": {},
   "source": [
    "<img src=\"./images/linux-terminal/open_terminal.png\" width=\"600\"/>"
   ]
  },
  {
   "cell_type": "markdown",
   "id": "7a7aac50-c14b-41f1-9ff3-c643dbc971e6",
   "metadata": {},
   "source": [
    "Other versions of Linux, or other flavours of Ubuntu, will usually have a terminal launcher located in the same place as your other application launchers. It might be hidden away in a submenu or you might have to search for it from within your launcher, but it’s likely to be there somewhere."
   ]
  },
  {
   "cell_type": "markdown",
   "id": "b4d26ae1-0a62-44c4-83c7-ec90be4f0013",
   "metadata": {},
   "source": [
    "If you can’t find a launcher, or if you just want a faster way to bring up the terminal, most Linux systems use the same default keyboard shortcut to start it: **Ctrl-Alt-T**."
   ]
  },
  {
   "cell_type": "markdown",
   "id": "8370765c-4b67-4792-93ae-442bce78bcdb",
   "metadata": {},
   "source": [
    "However you launch your terminal, you should end up with a rather dull looking window with an odd bit of text at the top, much like the image below. Depending on your Linux system the colours may not be the same, and the text will likely say something different, but the general layout of a window with a large (mostly empty) text area should be similar."
   ]
  },
  {
   "cell_type": "markdown",
   "id": "7408f120-5111-4960-9c5b-e96452b41060",
   "metadata": {},
   "source": [
    "Linux, WSL, and Mac OS terminals (and terminals in general) look pretty much the same. After all, they are just a text interface."
   ]
  },
  {
   "cell_type": "markdown",
   "id": "070ebed9-64a7-4665-b0fb-a568d8b92eb1",
   "metadata": {},
   "source": [
    "Linux | WSL | Mac\n",
    "- | - | -\n",
    "<img src=\"./images/linux-terminal/linux-terminal.png\" width=\"400\"/> | <img src=\"./images/wsl/wsl_ubuntu_userpass.png\" width=\"400px\"/> | <img src=\"./images/linux-terminal/mac-terminal.png\" width=\"400\"/> "
   ]
  },
  {
   "cell_type": "markdown",
   "id": "ec3a3d24-602c-474d-96ec-02b34a056ce2",
   "metadata": {},
   "source": [
    "Let’s run our first command. Click the mouse into the window to make sure that’s where your keystrokes will go, then type the following command, all in lower case, before pressing the Enter or Return key to run it."
   ]
  },
  {
   "cell_type": "markdown",
   "id": "ad4524b4-37ae-4afa-bf00-c71077b066dc",
   "metadata": {},
   "source": [
    "```bash\n",
    "$ pwd\n",
    "```"
   ]
  },
  {
   "cell_type": "markdown",
   "id": "2f3174d8-9b2d-4844-ab38-0498cd0ba090",
   "metadata": {},
   "source": [
    "You should see a directory path printed out (probably something like `/home/YOUR_USERNAME`), then another copy of that odd bit of text."
   ]
  },
  {
   "cell_type": "markdown",
   "id": "c6c749f2-7b56-4b2c-b244-163ad9f33755",
   "metadata": {},
   "source": [
    "<img src=\"./images/linux-terminal/pwd-command.png\" width=\"400\"/>"
   ]
  },
  {
   "cell_type": "markdown",
   "id": "40701eee-3335-4787-8782-2172929e26fa",
   "metadata": {},
   "source": [
    "There are a couple of basics to understand here, before we get into the detail of what the command actually did. First is that when you type a command it appears on the same line as the odd text. That text is there to tell you the computer is ready to accept a command, it’s the computer’s way of prompting you. In fact it’s usually referred to as the prompt, and you might sometimes see instructions that say “bring up a prompt”, “open a command prompt”, “at the bash prompt” or similar. They’re all just different ways of asking you to open a terminal to get to a shell."
   ]
  },
  {
   "cell_type": "markdown",
   "id": "7cd652ca-20d2-439e-a8fb-c3049e653d33",
   "metadata": {},
   "source": [
    "On the subject of synonyms, another way of looking at the prompt is to say that there’s a line in the terminal into which you type commands. A command line, if you will. Again, if you see mention of “command line”, it’s just another way of talking about a shell running in a terminal."
   ]
  },
  {
   "cell_type": "markdown",
   "id": "b77cacd7-3386-40d3-8440-89987b240b85",
   "metadata": {},
   "source": [
    "> **The importance of case**\n",
    "Be extra careful with case when typing in the command line. Typing `PWD` instead of `pwd` will produce an error, but sometimes the wrong case can result in a command appearing to run, but not doing what you expected. We’ll look at case a little more on the next page but, for now, just make sure to type all the following lines in exactly the case that’s shown."
   ]
  },
  {
   "cell_type": "markdown",
   "id": "2f9fb643-bce2-4080-aa14-bf153f3405c4",
   "metadata": {},
   "source": [
    "<a class=\"anchor\" id=\"a_sense_of_location\"></a>\n",
    "\n",
    "\n",
    "## A sense of location"
   ]
  },
  {
   "cell_type": "markdown",
   "id": "6e4828d2-945e-42da-b82f-428eb5ad9c6b",
   "metadata": {},
   "source": [
    "Now to the command itself. `pwd` is an abbreviation of \"**p**rint **w**orking **d**irectory\". All it does is print out the shell’s current working directory. But what’s a **working directory**?"
   ]
  },
  {
   "cell_type": "markdown",
   "id": "41fa5a2c-c188-4ac5-94b6-91d57a13f091",
   "metadata": {},
   "source": [
    "One important concept to understand is that the shell has a notion of a default location in which any file operations will take place. This is its working directory. If you try to create new files or directories, view existing files, or even delete them, the shell will assume you’re looking for them in the current working directory unless you take steps to specify otherwise. So it’s quite important to keep an idea of what directory the shell is “in” at any given time, after all, deleting files from the wrong directory could be disastrous. If you’re ever in any doubt, the `pwd` command will tell you exactly what the current working directory is"
   ]
  },
  {
   "cell_type": "markdown",
   "id": "cd7922ad-8d1c-4fe1-9ecb-9330ab568a79",
   "metadata": {},
   "source": [
    "You can change the working directory using the `cd` command, an abbreviation for ‘change directory’. Try typing the following:\n",
    "\n",
    "```bash\n",
    "$ cd /\n",
    "$ pwd\n",
    "```"
   ]
  },
  {
   "cell_type": "markdown",
   "id": "f0dd9b92-787a-4495-b8c5-15179daa27c3",
   "metadata": {},
   "source": [
    "> Note that the directory separator is a forward slash (\"`/`\"), not the backslash that you may be used to from Windows or DOS systems"
   ]
  },
  {
   "cell_type": "markdown",
   "id": "11e0592c-3f9f-4da2-a78e-f945f435318d",
   "metadata": {},
   "source": [
    "> Too many roots\n",
    "Beware: although the `/` directory is sometimes referred to as the root directory, the word **root** has another meaning. root is also the name that has been used for the superuser since the early days of Unix. The superuser, as the name suggests, has more powers than a normal user, so can easily wreak havoc with a badly typed command. We’ll look at the superuser account more in later sections. For now you only have to know that the word **root** has multiple meanings in the Linux world, so context is important."
   ]
  },
  {
   "cell_type": "markdown",
   "id": "754893fa-4d05-4f55-8077-07a5f6e5e682",
   "metadata": {},
   "source": [
    "From the root directory, the following command will move you into the **home** directory (which is an immediate subdirectory of `/`):\n",
    "\n",
    "```bash\n",
    "$ cd home\n",
    "$ pwd\n",
    "```"
   ]
  },
  {
   "cell_type": "markdown",
   "id": "bb4442a0-4860-4835-941d-540c6b7b8ce0",
   "metadata": {},
   "source": [
    "To go up to the parent directory, in this case back to `/`, use the special syntax of two dots (`..`) when changing directory (note the space between `cd` and `..`, unlike in DOS you can’t just type `cd..` as one command):\n",
    "\n",
    "```bash\n",
    "$ cd ..\n",
    "$ pwd\n",
    "```"
   ]
  },
  {
   "cell_type": "markdown",
   "id": "8973db0d-26a5-4f72-9988-91dd055a6acd",
   "metadata": {},
   "source": [
    "Typing cd on its own is a quick shortcut to get back to your home directory:\n",
    "\n",
    "```bash\n",
    "$ cd\n",
    "$ pwd\n",
    "```"
   ]
  },
  {
   "cell_type": "markdown",
   "id": "08f18887-da08-44cf-8111-083cc7dfb4f6",
   "metadata": {},
   "source": [
    "You can also use `..` more than once if you have to move up through multiple levels of parent directories:\n",
    "\n",
    "```bash\n",
    "$ cd ../..\n",
    "$ pwd\n",
    "```"
   ]
  },
  {
   "cell_type": "markdown",
   "id": "4a9bfbcb-34f6-4f8c-8565-29978ebc56c9",
   "metadata": {},
   "source": [
    "Notice that in the previous example we described a route to take through the directories. The path we used means “starting from the working directory, move to the parent `/` from that new location move to the parent again”. So if we wanted to go straight from our home directory to the “etc” directory (which is directly inside the root of the file system), we could use this approach:\n",
    "\n",
    "```bash\n",
    "$ cd\n",
    "$ pwd\n",
    "\n",
    "$ cd ../../etc\n",
    "$ pwd\n",
    "```"
   ]
  },
  {
   "cell_type": "markdown",
   "id": "d09175db-723f-478d-9dbd-a0aa7bb073b9",
   "metadata": {},
   "source": [
    "<a class=\"anchor\" id=\"relative_and_absolute_paths\"></a>\n",
    "\n",
    "\n",
    "## Relative and absolute paths"
   ]
  },
  {
   "cell_type": "markdown",
   "id": "874f52fc-c96f-4387-80d1-28581f80451d",
   "metadata": {},
   "source": [
    "Most of the examples we’ve looked at so far use relative paths. That is, the place you end up at depends on your current working directory. Consider trying to cd into the “etc” folder. If you’re already in the root directory that will work fine:\n",
    "\n",
    "```bash\n",
    "$ cd /\n",
    "$ pwd\n",
    "$ cd etc\n",
    "$ pwd\n",
    "```"
   ]
  },
  {
   "cell_type": "markdown",
   "id": "c32f1898-3cfd-4cf8-b813-8af49fc0c91f",
   "metadata": {},
   "source": [
    "But what if you’re in your home directory?\n",
    "\n",
    "```bash\n",
    "$ cd\n",
    "$ pwd\n",
    "$ cd etc\n",
    "$ pwd\n",
    "```"
   ]
  },
  {
   "cell_type": "markdown",
   "id": "be862d08-e303-4c12-b119-90d5a42a38e0",
   "metadata": {},
   "source": [
    "You’ll see an error saying “No such file or directory” before you even get to run the last pwd. Changing directory by specifying the directory name, or using .. will have different effects depending on where you start from. The path only makes sense relative to your working directory.\n",
    "\n",
    "But we have seen two commands that are absolute. No matter what your current working directory is, they’ll have the same effect. The first is when you run cd on its own to go straight to your home directory. The second is when you used cd / to switch to the root directory. In fact any path that starts with a forward slash is an absolute path. You can think of it as saying “switch to the root directory, then follow the route from there”. That gives us a much easier way to switch to the etc directory, no matter where we currently are in the file system:\n",
    "\n",
    "```bash\n",
    "$ cd\n",
    "$ pwd\n",
    "$ cd /etc\n",
    "$ pwd\n",
    "```"
   ]
  },
  {
   "cell_type": "markdown",
   "id": "c2e0a591-fb0c-4a97-86f4-053399415682",
   "metadata": {},
   "source": [
    "It also gives us another way to get back to your home directory, and even to the folders within it. Suppose you want to go straight to your “Desktop” folder from anywhere on the disk (note the upper-case “D”). In the following command **you’ll need to replace USERNAME with your own username**, the `whoami` command will remind you of your username, in case you’re not sure:\n",
    "\n",
    "```bash\n",
    "$ whoami\n",
    "$ cd /home/USERNAME/Desktop\n",
    "$ pwd\n",
    "```"
   ]
  },
  {
   "cell_type": "markdown",
   "id": "aebb8e31-eabb-4fd8-8bf9-d298d313bfaa",
   "metadata": {},
   "source": [
    "There’s one other handy shortcut which works as an absolute path. As you’ve seen, using “`/`” at the start of your path means “starting from the root directory”. Using the tilde character (”`~`”) at the start of your path similarly means “starting from my home directory”.\n",
    "\n",
    "```bash\n",
    "$ cd ~\n",
    "$ pwd\n",
    "\n",
    "$ cd ~/Desktop\n",
    "$ pwd\n",
    "```"
   ]
  },
  {
   "cell_type": "markdown",
   "id": "409410e6-8237-4299-b0ab-0180517077cc",
   "metadata": {},
   "source": [
    "Now that odd text in the prompt might make a bit of sense. Have you noticed it changing as you move around the file system? On a Ubuntu system it shows your username, your computer’s network name and the current working directory. But if you’re somewhere inside your home directory, it will use “`~`” as an abbreviation. Let’s wander around the file system a little, and keep an eye on the prompt as you do so:\n",
    "\n",
    "```bash\n",
    "$ cd\n",
    "$ cd /\n",
    "$ cd ~/Desktop\n",
    "$ cd /etc\n",
    "$ cd /var/log\n",
    "$ cd ..\n",
    "$ cd\n",
    "```"
   ]
  },
  {
   "cell_type": "markdown",
   "id": "ae0d09dc-c803-4847-9536-24c1813c0a39",
   "metadata": {},
   "source": [
    "You must be bored with just moving around the file system by now, but a good understanding of absolute and relative paths will be invaluable as we move on to later sections and learn more commmands."
   ]
  }
 ],
 "metadata": {
  "kernelspec": {
   "display_name": "Python 3",
   "language": "python",
   "name": "python3"
  },
  "language_info": {
   "codemirror_mode": {
    "name": "ipython",
    "version": 3
   },
   "file_extension": ".py",
   "mimetype": "text/x-python",
   "name": "python",
   "nbconvert_exporter": "python",
   "pygments_lexer": "ipython3",
   "version": "3.8.11"
  }
 },
 "nbformat": 4,
 "nbformat_minor": 5
}
