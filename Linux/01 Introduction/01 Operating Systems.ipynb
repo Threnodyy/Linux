{
 "cells": [
  {
   "cell_type": "markdown",
   "id": "c6296518-1a76-4303-a7bb-daa349a32340",
   "metadata": {},
   "source": [
    "<img src=\"../../images/banners/introduction.png\" width=\"600\"/>"
   ]
  },
  {
   "cell_type": "markdown",
   "id": "e8d181f3-99aa-4a0b-90ab-0da8e564ebaa",
   "metadata": {},
   "source": [
    "# <img src=\"../../images/logos/linux-terminal.jpeg\" width=\"25\"/> Operating Systems\n"
   ]
  },
  {
   "cell_type": "markdown",
   "id": "3bbb086c-38f4-4742-aa9b-e1d6d581ee57",
   "metadata": {},
   "source": [
    "## <img src=\"../../images/logos/toc.png\" width=\"20\"/> Table of Contents \n",
    "* [Operating System Definition and Function](#operating_system_definition_and_function)\n",
    "* [Process Management in OS](#process_management_in_os)\n",
    "* [Types of Operating Systems](#types_of_operating_systems)\n",
    "    * [Linux](#linux)\n",
    "    * [Mac OS](#mac)\n",
    "    * [Windows](#windows)\n",
    "* [Operating Systems for Mobile Devices](#operating_systems_for_mobile_deviced)\n",
    "* [Conclusion](#conclusion)\n",
    "\n",
    "---"
   ]
  },
  {
   "cell_type": "markdown",
   "id": "d6631d0e-80e2-4226-a04c-d450e0cf5813",
   "metadata": {},
   "source": [
    "Operating System can be defined as an **interface between user and the hardware**. It provides an environment to the user so that, the user can perform its task in convenient and efficient way. Most of the time, there are several different computer programs running at the same time, and they all need to access your computer's **Central Processing Unit (CPU)**, **memory**, and **storage**. The operating system coordinates all of this to make sure each program gets what it needs."
   ]
  },
  {
   "cell_type": "markdown",
   "id": "e0711cb1-75f7-40ca-8108-2875d8962b21",
   "metadata": {},
   "source": [
    "<a class=\"anchor\" id=\"operating_system_definition_and_function\"></a>\n",
    "\n",
    "# Operating System Definition and Function"
   ]
  },
  {
   "cell_type": "markdown",
   "id": "ae34718e-580c-403f-9007-154199f7745a",
   "metadata": {},
   "source": [
    "In the Computer System (comprises of Hardware and software), Hardware can only understand machine code (in the form of 0 and 1) which doesn't make any sense to a naive user."
   ]
  },
  {
   "cell_type": "markdown",
   "id": "6de3309b-76e4-42a3-9cc1-c3d7d366e0f6",
   "metadata": {},
   "source": [
    "We need a system which can act as an intermediary and manage all the processes and resources present in the system."
   ]
  },
  {
   "cell_type": "markdown",
   "id": "55aef1ce-4054-4d38-a5ff-2a2b01e7d832",
   "metadata": {},
   "source": [
    "<img src=\"./images/operating-systems/os-definition-and-functions.png\"/>"
   ]
  },
  {
   "cell_type": "markdown",
   "id": "d2f51d5d-3c83-4a25-97a9-da0f217831bd",
   "metadata": {},
   "source": [
    "An **Operating System** can be defined as an **interface between user and hardware**. It is responsible for the execution of all the processes, Resource Allocation, CPU management, File Management and many other tasks."
   ]
  },
  {
   "cell_type": "markdown",
   "id": "9fb7b9bc-6498-4e6b-86d3-664e2d2d6d77",
   "metadata": {},
   "source": [
    "An Operating System can be defined as an interface between user and hardware. It is responsible for the execution of all the processes, Resource Allocation, CPU\n",
    "management, File Management and many other tasks."
   ]
  },
  {
   "cell_type": "markdown",
   "id": "5c4776e3-f816-46c0-982d-726ab7634b57",
   "metadata": {},
   "source": [
    "<a class=\"anchor\" id=\"process_management_in_os\"></a>\n",
    "\n",
    "# Process Management in OS"
   ]
  },
  {
   "cell_type": "markdown",
   "id": "29245e45-1a16-4818-90e3-6f5a6c536008",
   "metadata": {},
   "source": [
    "<img src=\"./images/operating-systems/os_process.jpg\" width=\"500px\"/>"
   ]
  },
  {
   "cell_type": "markdown",
   "id": "dc971fed-5174-4586-858f-2f68a281f02b",
   "metadata": {},
   "source": [
    "A Program does nothing unless its instructions are executed by a CPU. A program in execution is called a process. In order to accomplish its task, process needs the computer resources."
   ]
  },
  {
   "cell_type": "markdown",
   "id": "dff9b3c7-5715-4dab-9d2e-4c2f0472fc79",
   "metadata": {},
   "source": [
    "There may exist more than one process in the system which may require the same resource at the same time. Therefore, the operating system has to manage all the processes and the resources in a convenient and efficient way."
   ]
  },
  {
   "cell_type": "markdown",
   "id": "1ae83522-e5f2-49c2-ae9b-7e59fb188f78",
   "metadata": {},
   "source": [
    "Some resources may need to be executed by one process at one time to maintain the consistency otherwise the system can become inconsistent and deadlock may occur."
   ]
  },
  {
   "cell_type": "markdown",
   "id": "e623c5d3-1c48-4de4-a1fc-4b6a0fab5ba9",
   "metadata": {},
   "source": [
    "The operating system is responsible for the following activities in connection with Process Management:\n",
    "- Scheduling processes and threads on the CPUs.\n",
    "- Creating and deleting both user and system processes.\n",
    "- Suspending and resuming processes.\n",
    "- Providing mechanisms for process synchronization.\n",
    "- Providing mechanisms for process communication."
   ]
  },
  {
   "cell_type": "markdown",
   "id": "c05fb734-075a-4942-a61c-e05f3d6121f9",
   "metadata": {},
   "source": [
    "Read More: https://www.javatpoint.com/os-tutorial"
   ]
  },
  {
   "cell_type": "markdown",
   "id": "8d2bd6d2-ccef-4f7c-bc94-0a17b41e3ff0",
   "metadata": {},
   "source": [
    "<a class=\"anchor\" id=\"types_of_operating_systems\"></a>\n",
    "\n",
    "# Types of Operating Systems"
   ]
  },
  {
   "cell_type": "markdown",
   "id": "eba2047d-e7a2-40c1-becd-65ce367074e3",
   "metadata": {},
   "source": [
    "<img src=\"./images/operating-systems/os-types.jpeg\" width=\"400px\"/>"
   ]
  },
  {
   "cell_type": "markdown",
   "id": "2f7ed09d-08bb-48a3-969e-daf2f0bb15a4",
   "metadata": {},
   "source": [
    "Operating systems usually come **pre-loaded** on any computer you buy. Most people use the operating system that comes with their computer, but it's possible to upgrade or even change operating systems. The three most common operating systems for personal computers are **Microsoft Windows**, **macOS**, and **Linux**."
   ]
  },
  {
   "cell_type": "markdown",
   "id": "6dc43b41-6cf9-4b6f-aa3c-329ecfb1a9dc",
   "metadata": {},
   "source": [
    "Modern operating systems use a **graphical user interface**, or GUI (pronounced **gooey**). A GUI lets you use your mouse to click **icons**, **buttons**, and **menus**, and everything is clearly displayed on the screen using a combination of graphics and text."
   ]
  },
  {
   "cell_type": "markdown",
   "id": "44e48cf4-fed3-4a53-a512-fa387e99a4c9",
   "metadata": {},
   "source": [
    "Each operating system's GUI has a different look and feel, so if you switch to a different operating system it may seem unfamiliar at first. However, modern operating systems are designed to be **easy to use**, and most of the basic principles are the same."
   ]
  },
  {
   "cell_type": "markdown",
   "id": "d9e5249a-e948-435a-94de-eb46cd0944f2",
   "metadata": {},
   "source": [
    "But this wasn't allways the case! Let's take it from the top. This is going to be fun, I promise!"
   ]
  },
  {
   "cell_type": "markdown",
   "id": "dbaa2510-6d62-4e2c-9bc0-338c438be1d4",
   "metadata": {},
   "source": [
    "In the beginning, there was UNIX. This was an operating system so that BIG computers could run programs and talk to each other. It was developed at Bell Labs. It wasn’t important for Bell to control who got a copy of the software, since the computers to run it were rare anyway. Other companies licensed UNIX from Bell and made their own versions."
   ]
  },
  {
   "cell_type": "markdown",
   "id": "f2cd14b2-1cbb-46a5-bef1-d1acc9c89b16",
   "metadata": {},
   "source": [
    "Computers got more common, so Bell got more restrictive. It eventually went to court to try to shut down the Berkeley Software Distribution (BSD) version of UNIX, which was being given away for free. It failed, because it had lost its copyright over the software. The decision in the trial was kept secret until 2004. These days, there are several versions of BSD UNIX."
   ]
  },
  {
   "cell_type": "markdown",
   "id": "c7d7a4fc-dd53-419e-bcf1-3338f29b7fa6",
   "metadata": {},
   "source": [
    "<img src=\"./images/operating-systems/ibm_first_pc.jpeg\" width=\"200px\"/>"
   ]
  },
  {
   "cell_type": "markdown",
   "id": "4f10c753-60bc-426c-8865-3b2046e31063",
   "metadata": {},
   "source": [
    "<a class=\"anchor\" id=\"linux\"></a>\n",
    "\n",
    "## Linux"
   ]
  },
  {
   "cell_type": "markdown",
   "id": "12e4d84a-8ccc-4ef8-bba1-5d999c09b545",
   "metadata": {},
   "source": [
    "While the outcome of the UNIX trial was uncertain, a Finnish university student named Linus Torvalds wrote a “kernel” for a UNIX system that he could run on his personal computer. He combined that with a bunch of programs written for the Free Software Foundation, which had just about everything needed for a UNIX-style operating system except the kernel. Together, they made **Linux**. It’s like UNIX, but since the kernel is different, it isn’t called UNIX."
   ]
  },
  {
   "cell_type": "markdown",
   "id": "a20844d9-5f0a-47e4-9642-b4cd87574481",
   "metadata": {},
   "source": [
    "Linux (the kernel) has since been combined with an Operating System called GNU (stands for “GNU’S NOT UNIX”) to make the fully operational GNU/Linux (what you call, erroneously, Linux). Many different vendors and communities started packaging GNU/Linux with some other software to produce different OS distributions, called distributions (\"distros\") for short, and the most famous of them these days are Ubuntu (put out by a company called Canonical), Fedora (put out by a company called Red Hat) and Mint (a community-driven project)."
   ]
  },
  {
   "cell_type": "markdown",
   "id": "d9008b05-fdf8-4e78-9678-f8343fc59566",
   "metadata": {},
   "source": [
    "<a class=\"anchor\" id=\"mac\"></a>\n",
    "\n",
    "## Mac OS"
   ]
  },
  {
   "cell_type": "markdown",
   "id": "c169d351-a647-4e51-9fb2-874de0063555",
   "metadata": {},
   "source": [
    "The **Mac OS** was originally an Apple-only operating system, written from scratch, and mostly famous for its excellent user interface. You know, the whole “Windows, icons, menus, pointer” or WIMP interface that everyone is using now. Later, it decided to adapt a BSD UNIX as its kernel, so it is, strictly speaking, a UNIX itself. It just doesn’t look like the others, and you’re not supposed to run it on non-Apple computers."
   ]
  },
  {
   "cell_type": "markdown",
   "id": "599a5c83-e917-4b99-80ea-ab012cc7a94f",
   "metadata": {},
   "source": [
    "<img src=\"./images/operating-systems/mac-os.jpeg\" width=\"500px\"/>"
   ]
  },
  {
   "cell_type": "markdown",
   "id": "18650bd8-527d-4deb-9bb6-022b4b84852a",
   "metadata": {},
   "source": [
    "<a class=\"anchor\" id=\"windows\"></a>\n",
    "\n",
    "## Windows"
   ]
  },
  {
   "cell_type": "markdown",
   "id": "2cc3325a-cdde-4862-a389-39b1fe42834c",
   "metadata": {},
   "source": [
    "**Windows** was originally a WIMP interface for Microsoft’s Disk Operating System, or DOS. A pretty wimpy interface it was, too, until about version 3.3, when people began to find using it less painful than having root canals. It is the one mainstream operating system that is not UNIX or derived from UNIX. Before Windows NT, it was derived from DOS; Windows NT and after are derived from an operating system called VMS."
   ]
  },
  {
   "cell_type": "markdown",
   "id": "111c4b17-f0ff-42ea-8c30-2aadf7542e9d",
   "metadata": {},
   "source": [
    "<img src=\"./images/operating-systems/windows.jpeg\" width=\"500px\"/>"
   ]
  },
  {
   "cell_type": "markdown",
   "id": "fe8f546d-a249-4ed8-801f-b87866ee7db5",
   "metadata": {},
   "source": [
    "<a class=\"anchor\" id=\"operating_systems_for_mobile_deviced\"></a>\n",
    "\n",
    "# Operating Systems for Mobile Devices"
   ]
  },
  {
   "cell_type": "markdown",
   "id": "972f15dc-6a5d-46a5-93f2-5518c1914fbe",
   "metadata": {},
   "source": [
    "The operating systems we've been talking about so far were designed to run on desktop and laptop computers. Mobile devices such as phones, tablet computers, and MP3 players are different from desktop and laptop computers, so they run operating systems that are designed specifically for mobile devices. Examples of mobile operating systems include Apple iOS and Google Android. In the screenshot below, you can see iOS running on an iPad."
   ]
  },
  {
   "cell_type": "markdown",
   "id": "9e84fda5-809d-44b0-9b1b-201ee994cd80",
   "metadata": {},
   "source": [
    "<img src=\"./images/operating-systems/mobile-os.jpeg\" width=\"500px\"/>"
   ]
  },
  {
   "cell_type": "markdown",
   "id": "52166cc6-da3f-49f8-b6b8-c190b3576e7c",
   "metadata": {},
   "source": [
    "Operating systems for mobile devices generally aren't as fully featured as those made for desktop and laptop computers, and they aren't able to run all of the same software. However, you can still do a lot of things with them, like watch movies, browse the Web, manage your calendar, and play games."
   ]
  },
  {
   "cell_type": "markdown",
   "id": "daab96ce-04bd-4731-92cb-aeadb83bb464",
   "metadata": {},
   "source": [
    "<a class=\"anchor\" id=\"conclusion\"></a>\n",
    "\n",
    "# Conclusion"
   ]
  },
  {
   "cell_type": "markdown",
   "id": "2deac8ff-f9cf-47c4-ac02-65103cb9bc80",
   "metadata": {},
   "source": [
    "That's it. Now you have a basic understanding of the purpose of operating systems and how they work under the hood."
   ]
  },
  {
   "cell_type": "markdown",
   "id": "80499577-9e50-4325-9fd2-364dbb9aa2ce",
   "metadata": {},
   "source": [
    "In this course, we follow Ubuntu (the most common GNU/Linux distro) for the purposes of data science. Since Ubuntu and Mac-OS are unix based, 99% of what you learn from Ubuntu for data science purposes is applicable to Mac OS as well, especially when it comes to using terminal (You'll learn what it is later, that's the cool usually black screen you see in hacker/tech movies)."
   ]
  },
  {
   "cell_type": "markdown",
   "id": "42485053-16c1-4e0d-baa1-bebbd5b09ed0",
   "metadata": {},
   "source": [
    "If you only have experience with windows as operating systems and it is hard for you to switch, don't worry. You don't have to immediately jump into linux. You can use **Windows Subsytem for Linux**. The Windows Subsystem for Linux lets developers run a GNU/Linux environment --including most command-line tools, utilities, and applications-- directly on Windows, unmodified, without the overhead of a traditional virtual machine or dualboot setup. We will cover how to set it up in the later sections."
   ]
  },
  {
   "cell_type": "markdown",
   "id": "84459ef9-5a61-42c3-9cde-3578f4ce40c8",
   "metadata": {},
   "source": [
    "However, after feeling confident with WSL, we highly recommend you to switch to either one of linux distros (preferably Ubuntu) or Mac-OS for data science purposes."
   ]
  }
 ],
 "metadata": {
  "kernelspec": {
   "display_name": "Python 3",
   "language": "python",
   "name": "python3"
  },
  "language_info": {
   "codemirror_mode": {
    "name": "ipython",
    "version": 3
   },
   "file_extension": ".py",
   "mimetype": "text/x-python",
   "name": "python",
   "nbconvert_exporter": "python",
   "pygments_lexer": "ipython3",
   "version": "3.8.11"
  }
 },
 "nbformat": 4,
 "nbformat_minor": 5
}
