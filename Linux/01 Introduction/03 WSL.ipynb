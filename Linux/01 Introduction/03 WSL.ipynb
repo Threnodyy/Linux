{
 "cells": [
  {
   "cell_type": "markdown",
   "id": "54d71156-261e-48ca-9fe9-57408da9f229",
   "metadata": {},
   "source": [
    "<img src=\"../../images/banners/introduction.png\" width=\"600\"/>"
   ]
  },
  {
   "cell_type": "markdown",
   "id": "42d5be0d-6794-4e53-87b1-df39cfcec434",
   "metadata": {},
   "source": [
    "# <img src=\"../../images/logos/linux-terminal.jpeg\" width=\"23\"/> Windows Subsystem for Linux (WSL) \n"
   ]
  },
  {
   "cell_type": "markdown",
   "id": "2ad41100",
   "metadata": {},
   "source": [
    "## <img src=\"../../images/logos/toc.png\" width=\"20\"/> Table of Contents \n",
    "* [Download Ubuntu](#download_ubuntu)\n",
    "* [Configure Ubuntu](#configure_ubuntu)\n",
    "* [Customising your Terminal with Windows Terminal Preview](#customising_your_terminal_with_windows_terminal_preview)\n",
    "* [Enjoy Ubuntu on WSL!](#enjoy_ubuntu_on_wsl!)\n",
    "\n",
    "---"
   ]
  },
  {
   "cell_type": "markdown",
   "id": "6d521913-5ce4-4cfe-b253-1675c6e39f2f",
   "metadata": {},
   "source": [
    "Windows Subsystem for Linux (WSL) allows you to install a complete Ubuntu terminal environment in minutes on your Windows machine, allowing you to develop cross-platform applications without leaving Windows.\n",
    "\n",
    "In this tutorial, we’ll show you how to get up and running with Ubuntu on WSL. These instructions will work on both Windows 10 or Windows 11."
   ]
  },
  {
   "cell_type": "markdown",
   "id": "450bb1bf-ec92-465a-9658-e135889b8891",
   "metadata": {},
   "source": [
    "<a class=\"anchor\" id=\"install_wsl\"></a>\n",
    "\n",
    "\n",
    "# <img src=\"../../../../ML/images/images/logos/python.png\" width=\"23\"/> Install WSL \n"
   ]
  },
  {
   "cell_type": "markdown",
   "id": "88baa93d-59c1-47e5-956b-f24cdd2ca727",
   "metadata": {},
   "source": [
    "Installing WSL is now easier than ever. First, **enable the windows subsystem for Linux** option in settings.\n",
    "\n",
    "- Go to Start. Search for \"Turn Windows features on or off.\"\n",
    "- Check the option Windows Subsystem for Linux."
   ]
  },
  {
   "cell_type": "markdown",
   "id": "ad120cbe-aad3-47eb-8f14-c12f9a799e96",
   "metadata": {},
   "source": [
    "<img src=\"./images/wsl/wsl_enable.png\" width=\"600px\"/>"
   ]
  },
  {
   "cell_type": "markdown",
   "id": "3e942524-3a1d-451d-ac61-bc7ba0e7f47d",
   "metadata": {},
   "source": [
    "Next, search for Windows PowerShell in your Windows search bar, then select Run as administrator."
   ]
  },
  {
   "cell_type": "markdown",
   "id": "54937863-4382-4f42-b373-efd38a19ba1e",
   "metadata": {},
   "source": [
    "<img src=\"./images/wsl/wsl_install.png\" width=\"400px\"/>"
   ]
  },
  {
   "cell_type": "markdown",
   "id": "31d9765f-2626-4981-b192-b4da153220e6",
   "metadata": {},
   "source": [
    "At the command prompt type:\n",
    "\n",
    "`wsl --install`"
   ]
  },
  {
   "cell_type": "markdown",
   "id": "19bd5dd7-edf5-4773-90eb-95755027bf85",
   "metadata": {},
   "source": [
    "And wait for the process to complete."
   ]
  },
  {
   "cell_type": "markdown",
   "id": "cb70bd63-e564-41f9-aec2-5b1ffa5aa8ae",
   "metadata": {},
   "source": [
    "<div class=\"alert alert-success\">\n",
    "For WSL to be properly activated, you will now need to restart your computer.\n",
    "</div>"
   ]
  },
  {
   "cell_type": "markdown",
   "id": "53e19b36-0db7-4714-bd77-4f0c786b6022",
   "metadata": {},
   "source": [
    "> **Note:** This command will enable the required optional components, download the latest Linux kernel, set WSL 2 as your default, and install a Linux distribution for you (Ubuntu by default, see below to change this)."
   ]
  },
  {
   "cell_type": "markdown",
   "id": "55c58247-38a1-468b-8a6f-bbcf25890182",
   "metadata": {},
   "source": [
    "<a class=\"anchor\" id=\"download_ubuntu\"></a>\n",
    "\n",
    "\n",
    "## Download Ubuntu"
   ]
  },
  {
   "cell_type": "markdown",
   "id": "7e188497-41fa-4b90-b6f9-95170c277b76",
   "metadata": {},
   "source": [
    "WSL supports a variety of Linux distributions, including the latest Ubuntu release, Ubuntu 22.04 LTS, Ubuntu 20.04 LTS and Ubuntu 18.04 LTS. You can find them by opening the [Microsoft store](https://www.microsoft.com/en-us/p/windows-terminal-preview/9n8g5rfz9xk3?activetab=pivot:overviewtab) app and searching for Ubuntu."
   ]
  },
  {
   "cell_type": "markdown",
   "id": "5ce517d4-8c17-4a78-acce-7e6bd68fe628",
   "metadata": {},
   "source": [
    "<img src=\"./images/wsl/wsl_ubuntu_download.png\" width=\"400px\"/>"
   ]
  },
  {
   "cell_type": "markdown",
   "id": "8aeec1ef-b56e-4a49-9b88-19cc6222f016",
   "metadata": {},
   "source": [
    "Choose the distribution you prefer and then click on Get as shown in the following screenshot:"
   ]
  },
  {
   "cell_type": "markdown",
   "id": "ceda9c67-9f6b-42ad-b0b8-f03e3672b2cd",
   "metadata": {},
   "source": [
    "<img src=\"./images/wsl/wsl_ubuntu_get.png\" width=\"400px\"/>"
   ]
  },
  {
   "cell_type": "markdown",
   "id": "9e48f56b-f930-4711-a258-3f5b3e844066",
   "metadata": {},
   "source": [
    "Ubuntu will then install on your machine."
   ]
  },
  {
   "cell_type": "markdown",
   "id": "5f615cc9-bc53-45fb-87be-0c4008a31c93",
   "metadata": {},
   "source": [
    "Once installed, you can either launch the application directly from the store or search for Ubuntu in your Windows search bar."
   ]
  },
  {
   "cell_type": "markdown",
   "id": "3a694519-1157-47a9-8759-d1024f99cda4",
   "metadata": {},
   "source": [
    "<img src=\"./images/wsl/wsl_ubuntu_launch.png\" width=\"400px\"/>"
   ]
  },
  {
   "cell_type": "markdown",
   "id": "c4c463ca-99da-46e0-be31-f612ab9e937a",
   "metadata": {},
   "source": [
    "<a class=\"anchor\" id=\"configure_ubuntu\"></a>\n",
    "\n",
    "\n",
    "## Configure Ubuntu"
   ]
  },
  {
   "cell_type": "markdown",
   "id": "6e79281d-5792-491e-ae4f-e08e21a89db5",
   "metadata": {},
   "source": [
    "Congratulations, you now have an Ubuntu terminal running on your Windows machine!"
   ]
  },
  {
   "cell_type": "markdown",
   "id": "c78ce5f4-2fc9-49b3-8a0a-4b694d509d6a",
   "metadata": {},
   "source": [
    "> If Ubuntu returns an error during this initial installation, then the most common issue is that virtualisation is disabled in your device’s BIOS menu. You will need to turn this on during your device’s boot sequence. The location of this option varies by manufacturer, so you will need to refer to their documentation to find it."
   ]
  },
  {
   "cell_type": "markdown",
   "id": "90e87ee6-1dac-4e83-bd2e-98c81f555d5a",
   "metadata": {},
   "source": [
    "Once Ubuntu has finished its initial setup you will need to create a username and password (this does not need to match your Windows user credentials)."
   ]
  },
  {
   "cell_type": "markdown",
   "id": "04233856-0298-408f-9330-a999a9cc55cd",
   "metadata": {},
   "source": [
    "<img src=\"./images/wsl/wsl_ubuntu_userpass.png\" width=\"600px\"/>"
   ]
  },
  {
   "cell_type": "markdown",
   "id": "65b2a67a-39cf-4d91-8ea2-fb5995328b35",
   "metadata": {},
   "source": [
    "Finally, it’s always good practice to install the latest updates with the following commands, entering your password when prompted.\n",
    "\n",
    "`sudo apt update`\n",
    "\n",
    "Then\n",
    "\n",
    "`sudo apt upgrade`\n",
    "\n",
    "Press `Y` when prompted."
   ]
  },
  {
   "cell_type": "markdown",
   "id": "d3f3a2f9-c745-432a-a1b7-951b86295a3e",
   "metadata": {},
   "source": [
    "<a class=\"anchor\" id=\"customising_your_terminal_with_windows_terminal_preview\"></a>\n",
    "\n",
    "\n",
    "## Customising your Terminal with Windows Terminal Preview"
   ]
  },
  {
   "cell_type": "markdown",
   "id": "6d96a714-851f-453a-b0bb-0faa9bfc0ade",
   "metadata": {},
   "source": [
    "Since you’re likely to be using your Ubuntu terminal a fair bit, it’s always nice to do some customisation. We recommend installing Windows Terminal Preview to get the most user-friendly setup. You can find it in the [Microsoft Store](https://www.microsoft.com/en-us/p/windows-terminal-preview/9n8g5rfz9xk3?activetab=pivot:overviewtab)."
   ]
  },
  {
   "cell_type": "markdown",
   "id": "e84bbb85-1f6d-4d80-adde-a5f04b6a8f29",
   "metadata": {},
   "source": [
    "<img src=\"./images/wsl/windows_terminal.png\" width=\"500px\"/>"
   ]
  },
  {
   "cell_type": "markdown",
   "id": "888266e2-7aab-40fb-9483-22bd5881fdf2",
   "metadata": {},
   "source": [
    "Windows Terminal allows you to open multiple Terminal instances as tabs, so you can have multiple terminals running. It also includes a number of customisation options. In the below screenshot, we’ve changed the tab name and colour, and configured the terminal appearance to use the Tango Dark theme and the [Ubuntu font](https://design.ubuntu.com/font/?_ga=2.191475502.580737161.1654751883-2119122224.1654751883)!"
   ]
  },
  {
   "cell_type": "markdown",
   "id": "9f830f45-4ca0-45cf-9f07-ffef0e56c022",
   "metadata": {},
   "source": [
    "<img src=\"./images/wsl/windows_terminal_tabs.png\" width=\"500px\"/>"
   ]
  },
  {
   "cell_type": "markdown",
   "id": "1a7630c5-ad1b-4569-9ba4-0118c30e6bcf",
   "metadata": {},
   "source": [
    "These customisations can be applied universally using the Appearance menu in Settings or to individual profiles which each have their own Appearance menu. Try it yourself to find something you feel comfortable with!"
   ]
  },
  {
   "cell_type": "markdown",
   "id": "307b3ac9-93c7-4d0c-88f4-595c4728997b",
   "metadata": {},
   "source": [
    "<img src=\"./images/wsl/windows_terminal_customization.png\" width=\"500px\"/>"
   ]
  },
  {
   "cell_type": "markdown",
   "id": "69ba82d2-ae82-49d1-88d7-c03e05fbc3ed",
   "metadata": {},
   "source": [
    "<a class=\"anchor\" id=\"enjoy_ubuntu_on_wsl!\"></a>\n",
    "\n",
    "\n",
    "## Enjoy Ubuntu on WSL!"
   ]
  },
  {
   "cell_type": "markdown",
   "id": "42aaeb4b-cd7e-473b-8c1f-4c482c557504",
   "metadata": {},
   "source": [
    "That’s it! In this tutorial, you’ve seen how to install WSL and Ubuntu, set up your profile, and install your first package. You also got some tips on how to customise your experience."
   ]
  },
  {
   "cell_type": "markdown",
   "id": "c4b9e9c9-984c-4b70-9b43-b3159504030d",
   "metadata": {},
   "source": [
    "> **Note**: You can also access your local machine’s filesystem from within the Linux Bash shell – you’ll find your local drives mounted under the `/mnt` folder. For example, your C: drive is mounted under `/mnt/c`. However, you need to know the basics on how to work with Linux terminal which are covered in later sections."
   ]
  }
 ],
 "metadata": {
  "kernelspec": {
   "display_name": "Python 3",
   "language": "python",
   "name": "python3"
  },
  "language_info": {
   "codemirror_mode": {
    "name": "ipython",
    "version": 3
   },
   "file_extension": ".py",
   "mimetype": "text/x-python",
   "name": "python",
   "nbconvert_exporter": "python",
   "pygments_lexer": "ipython3",
   "version": "3.8.11"
  }
 },
 "nbformat": 4,
 "nbformat_minor": 5
}
